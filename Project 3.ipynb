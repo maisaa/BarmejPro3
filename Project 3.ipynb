{
 "cells": [
  {
   "cell_type": "markdown",
   "metadata": {},
   "source": [
    "<div style=\"direction:rtl; text-align:right\">\n",
    "\n",
    "# المشروع الثالث: هل تستطيع توقع إيجارات المنازل؟"
   ]
  },
  {
   "cell_type": "markdown",
   "metadata": {},
   "source": [
    "<div style=\"direction:rtl; text-align:right\">\n",
    "أهلاً بكم في المشروع الثالث من علم البيانات. في هذا المشروع، سنعمل معا على بيانات إيجارات المنازل بناء على الكثير من السمات وذلك في البيانات الموجودة في هذا الرابط من موقع كاقل:"
   ]
  },
  {
   "cell_type": "markdown",
   "metadata": {},
   "source": [
    "- https://www.kaggle.com/c/house-prices-advanced-regression-techniques"
   ]
  },
  {
   "cell_type": "markdown",
   "metadata": {},
   "source": [
    "<div style=\"direction:rtl; text-align:right\">\n",
    "ملاحظة: عليك تعديل الخانات التي يوجد فيها الكود أدناه قبل تسليم المشروع. جميع الخانات الأخرى يجب ان تبقى كما هي بدون أي \n",
    "تعديل.\n",
    "\n",
    "```\n",
    "############################\n",
    "# عليك تعديل هذه الخانة قبل تسليم المشروع\n",
    "# YOU HAVE TO EDIT THIS CELLL\n",
    "############################\n",
    "```"
   ]
  },
  {
   "cell_type": "markdown",
   "metadata": {},
   "source": [
    "<div style=\"direction:rtl; text-align:right\">\n",
    "سنقوم أولاً بإحضار المكتبات اللازمة"
   ]
  },
  {
   "cell_type": "code",
   "execution_count": null,
   "metadata": {},
   "outputs": [],
   "source": [
    "import numpy as np\n",
    "import pandas as pd\n",
    "import matplotlib.pyplot as plt\n",
    "import seaborn as sns\n",
    "%matplotlib inline"
   ]
  },
  {
   "cell_type": "markdown",
   "metadata": {},
   "source": [
    "<div style=\"direction:rtl; text-align:right\">\n",
    "\n",
    "# قراءة البيانات"
   ]
  },
  {
   "cell_type": "markdown",
   "metadata": {},
   "source": [
    "<div style=\"direction:rtl; text-align:right\">\n",
    "بعد أن قمنا بتنزيل البيانات من موقع كاقل، سنقوم هنا بقراءة البيانات. ولاحظ أن لدينا بيانات تدريب وبيانات اختبار. سنقوم هنا بدمج البيانات مع بعض (مع عزل سعر المنزل، المتغير الذي علينا توقع قيمته لاحقا)."
   ]
  },
  {
   "cell_type": "code",
   "execution_count": null,
   "metadata": {},
   "outputs": [],
   "source": [
    "train_data = pd.read_csv('house-prices-advanced-regression-techniques/train.csv')"
   ]
  },
  {
   "cell_type": "code",
   "execution_count": null,
   "metadata": {},
   "outputs": [],
   "source": [
    "train_ids = train_data['Id']"
   ]
  },
  {
   "cell_type": "code",
   "execution_count": null,
   "metadata": {},
   "outputs": [],
   "source": [
    "test_data = pd.read_csv('house-prices-advanced-regression-techniques/test.csv')"
   ]
  },
  {
   "cell_type": "code",
   "execution_count": null,
   "metadata": {},
   "outputs": [],
   "source": [
    "test_ids = test_data['Id']"
   ]
  },
  {
   "cell_type": "markdown",
   "metadata": {},
   "source": [
    "<div style=\"direction:rtl; text-align:right\">\n",
    "وهنا نقوم بعزل متغير سعر المنزل.. وبعد ذلك سنقوم بحذفه من بيانات التدريب."
   ]
  },
  {
   "cell_type": "code",
   "execution_count": null,
   "metadata": {},
   "outputs": [],
   "source": [
    "y = train_data['SalePrice']"
   ]
  },
  {
   "cell_type": "code",
   "execution_count": null,
   "metadata": {},
   "outputs": [],
   "source": [
    "train_data.drop(columns='SalePrice', inplace=True)"
   ]
  },
  {
   "cell_type": "code",
   "execution_count": null,
   "metadata": {},
   "outputs": [],
   "source": [
    "train_data.set_index('Id', inplace=True)"
   ]
  },
  {
   "cell_type": "code",
   "execution_count": null,
   "metadata": {},
   "outputs": [],
   "source": [
    "test_data.set_index('Id', inplace=True)"
   ]
  },
  {
   "cell_type": "markdown",
   "metadata": {},
   "source": [
    "<div style=\"direction:rtl; text-align:right\">\n",
    "وأخيرا سنقوم بدمج الجدولين باستخدام الأمر concat:"
   ]
  },
  {
   "cell_type": "code",
   "execution_count": null,
   "metadata": {},
   "outputs": [],
   "source": [
    "data = pd.concat([train_data, test_data], axis=0)"
   ]
  },
  {
   "cell_type": "code",
   "execution_count": null,
   "metadata": {
    "scrolled": true
   },
   "outputs": [],
   "source": [
    "data.shape"
   ]
  },
  {
   "cell_type": "code",
   "execution_count": null,
   "metadata": {},
   "outputs": [],
   "source": [
    "data.head()"
   ]
  },
  {
   "cell_type": "markdown",
   "metadata": {},
   "source": [
    "<div style=\"direction:rtl; text-align:right\">\n",
    "في هذه البيانات، لدينا عدد ضخم من متغيرات التنبؤ. وسنقضي هذا المشروع في النظر إلى هذه البيانات وتنقيحها ومن ثم إنشاء نموذج للتنبؤ بسعر المنزل. "
   ]
  },
  {
   "cell_type": "markdown",
   "metadata": {},
   "source": [
    "<div style=\"direction:rtl; text-align:right\">\n",
    "\n",
    "# تجهيز البيانات"
   ]
  },
  {
   "cell_type": "markdown",
   "metadata": {},
   "source": [
    "<div style=\"direction:rtl; text-align:right\">\n",
    "في البداية، لنكتشف المتغيرات وأنواعها. يمكنك العودة إلى ملف وصف البيانات لقراءة وصف كل متغير."
   ]
  },
  {
   "cell_type": "code",
   "execution_count": null,
   "metadata": {},
   "outputs": [],
   "source": [
    "data.info()"
   ]
  },
  {
   "cell_type": "markdown",
   "metadata": {},
   "source": [
    "<div style=\"direction:rtl; text-align:right\">\n",
    "يبدو أن لدينا خليط بين المتغيرات الرقمية (int64 أو float64) والمتغيرات الفئوية (object). كما أن لدينا العديد من البيانات المفقودة. بشكل عام، لا ينصح التخلص من البيانات المفقودة لأن فقدان البيانات بحد ذاته قد يكون عاملاً مساهماً في توقع سعر المنزل."
   ]
  },
  {
   "cell_type": "markdown",
   "metadata": {},
   "source": [
    "<div style=\"direction:rtl; text-align:right\">\n",
    "لمعرفة مجموع الخانات المفقودة في كل متغير سنقوم باستخدام الأمر التالي:"
   ]
  },
  {
   "cell_type": "code",
   "execution_count": null,
   "metadata": {},
   "outputs": [],
   "source": [
    "data.isnull().sum()"
   ]
  },
  {
   "cell_type": "markdown",
   "metadata": {},
   "source": [
    "<div style=\"direction:rtl; text-align:right\">\n",
    "نظراً لوجود عدد كبير من المتغيرات نلاحظ أن الأمر السابق لم يقم بطبع جميع المتغيرات. كما نلاحظ أن هناك الكثير من المتغيرات التي لا يوجد لها أي بيانات مفقودة. في الأمر التالي، سنقوم بطباعة المتغيرات وعدد الخانات المفقودة فقط إن كان لديها خانات مفقودة:"
   ]
  },
  {
   "cell_type": "code",
   "execution_count": null,
   "metadata": {},
   "outputs": [],
   "source": [
    "missing_data = data.isnull().sum()"
   ]
  },
  {
   "cell_type": "code",
   "execution_count": null,
   "metadata": {},
   "outputs": [],
   "source": [
    "for k, v in missing_data.items():\n",
    "    if v>0 : \n",
    "        print(k,':\\t' , v)"
   ]
  },
  {
   "cell_type": "markdown",
   "metadata": {},
   "source": [
    "<div style=\"direction:rtl; text-align:right\">\n",
    "نجد أن بعض المتغيرات لديها قيم مفقودة قليلة جدا بينما متغيرات أخرى لديها قيم كثيرة جدا. كما نرى أن بعض القيم مكررة مثل 159 و 82 أو قريبة جداً من بعض. هذه الملاحظات مهم جداً وضعها في الحسبان حتى نقرر هل نبقيها ام نحذفها؟ ربما هذه المتغيرات قادمة من منطقة محددة أو لها صفات محددة. ولكن لن نخوض في أي من هذه التفاصيل الآن."
   ]
  },
  {
   "cell_type": "markdown",
   "metadata": {},
   "source": [
    "<div style=\"direction:rtl; text-align:right\">\n",
    "نريد الآن أن نستخرج قائمتين من الأعمدة: القائمة الأولى فيها الأعمدة الفئوية (categorical_cols) بينما القائمة الأخرى تحتوي الأعمدة الرقمية. قم باستخراج الأعمدة في الخانات التالية:"
   ]
  },
  {
   "cell_type": "code",
   "execution_count": null,
   "metadata": {},
   "outputs": [],
   "source": [
    "############################\n",
    "# عليك تعديل هذه الخانة قبل تسليم المشروع\n",
    "# YOU HAVE TO EDIT THIS CELLL\n",
    "############################\n",
    "\n",
    "# HINT:   you will use data.columns to extract all columns\n",
    "#         Then press data.dtypes and see what you get\n",
    "# You can also use    np.isin( )\n",
    "\n",
    "categorical_cols = <CODE HERE>\n",
    "numerical_cols = <CODE HERE>\n",
    "categorical_cols"
   ]
  },
  {
   "cell_type": "code",
   "execution_count": null,
   "metadata": {},
   "outputs": [],
   "source": [
    "assert len(categorical_cols) == 43, 'Wrong number of categorical columns'\n",
    "assert len(numerical_cols) == 36, 'Wrong number of neumerical columns'\n",
    "print('OK! You may proceed.')"
   ]
  },
  {
   "cell_type": "markdown",
   "metadata": {},
   "source": [
    "<div style=\"direction:rtl; text-align:right\">\n",
    "سنبدأ بتجهيز الأعمدة الفئوية، نحتاج لأن نتصرف مع القيم الفارغة في الأعمدة الفئوية،\n",
    "نحتاج دالة تعطينا أسماء الأعمدة الفئوية التي تحتوي قيم فارغة، قم بتعديل الدالة أدناه لتعطينا قائمة بهذه الأسماء"
   ]
  },
  {
   "cell_type": "code",
   "execution_count": null,
   "metadata": {},
   "outputs": [],
   "source": [
    "############################\n",
    "# عليك تعديل هذه الخانة قبل تسليم المشروع\n",
    "# YOU HAVE TO EDIT THIS CELLL\n",
    "############################\n",
    "\n",
    "def extract_categorical_cols_with_nans(data):\n",
    "    # you can use `categorical_cols` in here\n",
    "    categorical_cols_w_nans = <CODE HERE>   \n",
    "    return categorical_cols_w_nans\n",
    "\n",
    "categorical_null = extract_categorical_cols_with_nans(data)"
   ]
  },
  {
   "cell_type": "code",
   "execution_count": null,
   "metadata": {},
   "outputs": [],
   "source": [
    "assert len(categorical_null) == 23, 'Wrong number of null categorical columns'\n",
    "print('OK! You may proceed.')"
   ]
  },
  {
   "cell_type": "markdown",
   "metadata": {},
   "source": [
    "<div style=\"direction:rtl; text-align:right\">\n",
    "سنقوم بتقسيم الأعمدة الفئوية ذات القيم الفارغة لقسمين: قسم للحذف و قسم للتعديل\n",
    "سنحذف الأعمدة التي تحوي قيم فارغة في أكثر من نصفها\n",
    "و سنعوض القيم الفارغة في بقية الأعمدة  \n",
    "سنستخرج أسماء الأعمدة التي يجب حذفها (القيم الفارغة فيها أكثر من النصف)\n",
    "و الأعمدة التي يجب استبدال القيم الفارغة فيها (القيم الفارغة فيها أقل أو تساوي النصف)"
   ]
  },
  {
   "cell_type": "code",
   "execution_count": null,
   "metadata": {},
   "outputs": [],
   "source": [
    "to_remove = []  # الأعمدة التي يجب حذفها\n",
    "to_fillna = []  # الأعمدة التي يجب استبدال القيم الفارغة فيها\n",
    "\n",
    "for col in categorical_null:\n",
    "    \n",
    "    if len(data) - data[col].isna().sum() < len(data) / 2:\n",
    "        to_remove.append(col)\n",
    "    else:\n",
    "        to_fillna.append(col)"
   ]
  },
  {
   "cell_type": "code",
   "execution_count": null,
   "metadata": {},
   "outputs": [],
   "source": [
    "assert len(to_remove) == 4, 'Wrong number of categorical columns'\n",
    "assert len(to_fillna) == 19, 'Wrong number of categorical columns'\n",
    "print('OK! You may proceed.')"
   ]
  },
  {
   "cell_type": "markdown",
   "metadata": {},
   "source": [
    "<div style=\"direction:rtl; text-align:right\">\n",
    "بعد أن قمنا باستخراج الأعمدة، قم أولا بحذف الأعمدة التي يجب حذفها (to_remove)  "
   ]
  },
  {
   "cell_type": "code",
   "execution_count": null,
   "metadata": {},
   "outputs": [],
   "source": [
    "############################\n",
    "# عليك تعديل هذه الخانة قبل تسليم المشروع\n",
    "# YOU HAVE TO EDIT THIS CELLL\n",
    "############################\n",
    "<CODE HERE>"
   ]
  },
  {
   "cell_type": "markdown",
   "metadata": {},
   "source": [
    "<div style=\"direction:rtl; text-align:right\">\n",
    "قم الآن بتحديث قائمة المتغيرات الفئوية ( يجب ألا تحوي الأعمدة التي حذفتها)"
   ]
  },
  {
   "cell_type": "code",
   "execution_count": null,
   "metadata": {},
   "outputs": [],
   "source": [
    "############################\n",
    "# عليك تعديل هذه الخانة قبل تسليم المشروع\n",
    "# YOU HAVE TO EDIT THIS CELLL\n",
    "############################\n",
    "<CODE HERE>"
   ]
  },
  {
   "cell_type": "code",
   "execution_count": null,
   "metadata": {},
   "outputs": [],
   "source": [
    "assert len(categorical_cols) == 39, 'Wrong number of categorical columns'\n",
    "print('OK! You may proceed.')"
   ]
  },
  {
   "cell_type": "markdown",
   "metadata": {},
   "source": [
    "<div style=\"direction:rtl; text-align:right\">\n",
    "بالنسبة للأعمدة في متغير  \n",
    "to_fillna  \n",
    "قم بملء القيم الفارغة بالقيمة الأكثر تكرارًا في كل عمود\n",
    "أو قم بتعويضها بقيمة مميزة بالنسبة لكل عمود"
   ]
  },
  {
   "cell_type": "code",
   "execution_count": null,
   "metadata": {},
   "outputs": [],
   "source": [
    "############################\n",
    "# عليك تعديل هذه الخانة قبل تسليم المشروع\n",
    "# YOU HAVE TO EDIT THIS CELLL\n",
    "############################\n",
    "\n",
    "<CODE HERE>"
   ]
  },
  {
   "cell_type": "markdown",
   "metadata": {},
   "source": [
    "<div style=\"direction:rtl; text-align:right\">\n",
    "سنتعامل أولاً مع المتغيرات الفئوية. بخصوص المتغيرات الفئوية، سنقوم بتحويلها إلى عدة أعمدة رقمية (1 أو 0  لكل عمود) تماماً كما فعلنا في المشروع الأول باستخدام الأمر pd.get_dummies. ولكن هذه المرة ستكتبها أنت داخل الأمر أدناه."
   ]
  },
  {
   "cell_type": "markdown",
   "metadata": {},
   "source": [
    "<div style=\"direction:rtl; text-align:right\">\n",
    "الآن سوف نستخدم الكود السابق ولكن داخل حلقة تكرارية (for) حتى تسهل العملية. عليك إكمال الكود أدناه ولكن لا تنس أن تستخدم الأمر drop لحذف العمود الأصلي."
   ]
  },
  {
   "cell_type": "code",
   "execution_count": null,
   "metadata": {},
   "outputs": [],
   "source": [
    "############################\n",
    "# عليك تعديل هذه الخانة قبل تسليم المشروع\n",
    "# YOU HAVE TO EDIT THIS CELLL\n",
    "############################\n",
    "\n",
    "def convert_categorical_to_dummies(df):\n",
    "    # HINT: you use `categorical_cols` here\n",
    "    # also: you should set dummy_na to TRUE (this is new)\n",
    "    \n",
    "    \n",
    "    # extract dummy variables first (use dummy_na= True) to keep missing data marked\n",
    "    # then add them to the end of original `df`\n",
    "    # then drop the original variable from df (use inplace=True)\n",
    "\n",
    "\n",
    "    <CODE HERE>\n",
    "    \n",
    "    \n",
    "    return df\n"
   ]
  },
  {
   "cell_type": "markdown",
   "metadata": {},
   "source": [
    "<div style=\"direction:rtl; text-align:right\">\n",
    "هنا سنقوم باستخدام الأمر الذي أنشاناه أعلاه:"
   ]
  },
  {
   "cell_type": "code",
   "execution_count": null,
   "metadata": {},
   "outputs": [],
   "source": [
    "data = convert_categorical_to_dummies(data)"
   ]
  },
  {
   "cell_type": "code",
   "execution_count": null,
   "metadata": {},
   "outputs": [],
   "source": [
    "assert data.shape[1] == 333 or data.shape[1] == 314, 'Wrong shape.'\n",
    "print('Ok! You may proceed!')"
   ]
  },
  {
   "cell_type": "code",
   "execution_count": null,
   "metadata": {},
   "outputs": [],
   "source": [
    "data.columns"
   ]
  },
  {
   "cell_type": "markdown",
   "metadata": {},
   "source": [
    "<div style=\"direction:rtl; text-align:right\">\n",
    "نستطيع استخدام الأمر describe لوصف الأعمدة الرقمية:"
   ]
  },
  {
   "cell_type": "code",
   "execution_count": null,
   "metadata": {},
   "outputs": [],
   "source": [
    "data[numerical_cols].describe()"
   ]
  },
  {
   "cell_type": "markdown",
   "metadata": {},
   "source": [
    "<div style=\"direction:rtl; text-align:right\">\n",
    "نريد الاستعلام عن عدد المتغيرات الرقمية التي تحوي قيماً مفقودة وذلك لمعالجتها. في الخانة التالية، سنقوم بطباعة أسماء الأعمدة الرقمية ذات القيم المفقودة  (باستخدام numerical_cols). هل تستطيع أن تكمل المهمة ؟ يجب أن تكتب البرنامج  في الأمر أدناه."
   ]
  },
  {
   "cell_type": "code",
   "execution_count": null,
   "metadata": {},
   "outputs": [],
   "source": [
    "############################\n",
    "# عليك تعديل هذه الخانة قبل تسليم المشروع\n",
    "# YOU HAVE TO EDIT THIS CELLL\n",
    "############################\n",
    "\n",
    "def extract_numerical_cols_with_nans(data):\n",
    "    # you can use `numerical_cols` in here\n",
    "    numerical_cols_w_nans = <CODE HERE>  \n",
    "\n",
    "    return numerical_cols_w_nans\n",
    "\n",
    "numerical_cols_w_nans = extract_numerical_cols_with_nans(data) # save as a list\n",
    "\n",
    "numerical_cols_w_nans"
   ]
  },
  {
   "cell_type": "markdown",
   "metadata": {},
   "source": [
    "<div style=\"direction:rtl; text-align:right\">\n",
    "بعد تفحص البيانات المفقودة، وجدنا أن عدداً من الأعمدة الرقمية لديها بيانات مفقودة. والسؤال الآن هو كيف نتعامل مع البيانات المفقودة؟"
   ]
  },
  {
   "cell_type": "code",
   "execution_count": null,
   "metadata": {},
   "outputs": [],
   "source": [
    "assert len(numerical_cols_w_nans)==11, 'Numerical Columns with NaNs are in the wrong shape!'"
   ]
  },
  {
   "cell_type": "markdown",
   "metadata": {},
   "source": [
    "<div style=\"direction:rtl; text-align:right\">\n",
    "لنقم أولاً بتفحص توزيع الأعمدة لكل من هذه المتغيرات باستخدام المثال التالي:"
   ]
  },
  {
   "cell_type": "code",
   "execution_count": null,
   "metadata": {},
   "outputs": [],
   "source": [
    "data['LotFrontage'].plot.hist(bins=40)"
   ]
  },
  {
   "cell_type": "markdown",
   "metadata": {},
   "source": [
    "<div style=\"direction:rtl; text-align:right\">\n",
    "في LotFrontage، نجد أن البيانات تتبع توزيعا طبيعياً باستثناء بعض القيم العالية جد في أقصى اليمين (بعد 300). وبالتالي تعويض البيانات المفقودة بالوسيط (Median) قد يبدو خياراً مناسباً. لاحظ أن هذا المتغير هو أكثر متغير لديه قيم مفقودة."
   ]
  },
  {
   "cell_type": "code",
   "execution_count": null,
   "metadata": {},
   "outputs": [],
   "source": [
    "data['BsmtFinSF1'].plot.hist(bins=40)"
   ]
  },
  {
   "cell_type": "markdown",
   "metadata": {},
   "source": [
    "<div style=\"direction:rtl; text-align:right\">\n",
    "نجد أن عدد كبير من البيانات لديه قيمة 0 بينما باقي القيم تتناقص كلما زادت المساحة. هنا نستطيع التعويض بقيمة فريدة للقيم المفقودة ولتكن -1."
   ]
  },
  {
   "cell_type": "code",
   "execution_count": null,
   "metadata": {},
   "outputs": [],
   "source": [
    "data['BsmtFinSF2'].plot.hist(bins=40)"
   ]
  },
  {
   "cell_type": "markdown",
   "metadata": {},
   "source": [
    "<div style=\"direction:rtl; text-align:right\">\n",
    "نجد أن عدد كبير من البيانات لديه قيمة 0 بينما باقي القيم بالكاد نراها. هنا نستطيع التعويض ب -1"
   ]
  },
  {
   "cell_type": "code",
   "execution_count": null,
   "metadata": {},
   "outputs": [],
   "source": [
    "data['BsmtUnfSF'].plot.hist(bins=40)"
   ]
  },
  {
   "cell_type": "markdown",
   "metadata": {},
   "source": [
    "<div style=\"direction:rtl; text-align:right\">\n",
    "هنا نجد نمطاً مشابهاً ومتكرراً، وهو أن أغلب البيانات موزعة حول قيمة 0 ولكن باقي القيم تتناقص بعد ذلك مع ازدياد المساحة. هنا سنقوم بالتعويض ب -1."
   ]
  },
  {
   "cell_type": "code",
   "execution_count": null,
   "metadata": {},
   "outputs": [],
   "source": [
    "data['TotalBsmtSF'].plot.hist(bins=40)"
   ]
  },
  {
   "cell_type": "markdown",
   "metadata": {},
   "source": [
    "<div style=\"direction:rtl; text-align:right\">\n",
    "هنا نستطيع أن نرى توزيعاً طبيعياً واضحا بما يعني أننا نستطيع استخدام الوسيط الحسابي."
   ]
  },
  {
   "cell_type": "code",
   "execution_count": null,
   "metadata": {},
   "outputs": [],
   "source": [
    "data['BsmtFullBath'].plot.hist(bins=40)"
   ]
  },
  {
   "cell_type": "markdown",
   "metadata": {},
   "source": [
    "<div style=\"direction:rtl; text-align:right\">\n",
    "هذا المتغير يقيس عدد دورات المياه (الكاملة) في الدور الأرضي وكما نرى القيم حول 0 و 1 و 2. سنقوم باستخدام -1 للتعويض عن القيم المفقودة هنا."
   ]
  },
  {
   "cell_type": "code",
   "execution_count": null,
   "metadata": {},
   "outputs": [],
   "source": [
    "data['BsmtHalfBath'].plot.hist(bins=40)"
   ]
  },
  {
   "cell_type": "markdown",
   "metadata": {},
   "source": [
    "<div style=\"direction:rtl; text-align:right\">\n",
    "هذا المتغير يقيس عدد دورات المياه (التي يوجد فيها تواليت فقط) في الدور الأرضي وكما نرى القيم حول 0 و 1 و 2. سنقوم باستخدام -1 للتعويض عن القيم المفقودة هنا."
   ]
  },
  {
   "cell_type": "code",
   "execution_count": null,
   "metadata": {},
   "outputs": [],
   "source": [
    "data['GarageCars'].plot.hist(bins=40)"
   ]
  },
  {
   "cell_type": "markdown",
   "metadata": {},
   "source": [
    "<div style=\"direction:rtl; text-align:right\">\n",
    "عدد السيارات في القراج، ومن الواضح أننا سوف نستخدم -1 للتعويض عن القيم المفقودة هنا."
   ]
  },
  {
   "cell_type": "code",
   "execution_count": null,
   "metadata": {},
   "outputs": [],
   "source": [
    "data['GarageArea'].plot.hist(bins=40)"
   ]
  },
  {
   "cell_type": "markdown",
   "metadata": {},
   "source": [
    "<div style=\"direction:rtl; text-align:right\">\n",
    "مساحة القراج تتبع توزيعا شبه طبيعي. في الحقيقة من الصعب ترجيح خيار على آخر، لكن قيمة -1 للخانة المفقودة في هذا المتغير تبدو خياراً أسلم."
   ]
  },
  {
   "cell_type": "code",
   "execution_count": null,
   "metadata": {},
   "outputs": [],
   "source": [
    "data['MasVnrArea'].plot.hist(bins=40)"
   ]
  },
  {
   "cell_type": "markdown",
   "metadata": {},
   "source": [
    "<div style=\"direction:rtl; text-align:right\">\n",
    "هذا المتغير يحوي على 8 قيم مفقودة فقط، ولكن توزيع الأعداد مختلف تماماً حيث أغلب القيم عبارة عن قيمة 0. ماذا نفعل بالقيم المفقودة؟ التعويض بالمتوسط أو الوسيط لا معنى له في هذه الحالة. فهنا إما أن نضع القيمة المفقودة 0 أو نختار قيمة فريدة تعبر عن القيم المفقودة حتى تساهم في توقعات النموذج، مثل -1 (كما شرحنا في الدرس)."
   ]
  },
  {
   "cell_type": "code",
   "execution_count": null,
   "metadata": {},
   "outputs": [],
   "source": [
    "data['GarageYrBlt'].plot.hist(bins=40)"
   ]
  },
  {
   "cell_type": "markdown",
   "metadata": {},
   "source": [
    "<div style=\"direction:rtl; text-align:right\">\n",
    "متغير GarageYrBlt يحوي على 81 قيمة مفقودة. وبالنظر إلى توزيع السنوات نجد أن لدينا توزيع متعرج قليلاً وهنا يصعب استخدام المتوسط أو الوسيط. فليس أمامنا سوى اختيار قيمة فريدة تعبر عن القيم المفقودة ولتكن -1."
   ]
  },
  {
   "cell_type": "markdown",
   "metadata": {},
   "source": [
    "<div style=\"direction:rtl; text-align:right\">\n",
    "بناء على المقترحات أعلاه، الآن هو دورك في استبدال القيم المفقودة بالقيم الجديدة."
   ]
  },
  {
   "cell_type": "code",
   "execution_count": null,
   "metadata": {},
   "outputs": [],
   "source": [
    "############################\n",
    "# عليك تعديل هذه الخانة قبل تسليم المشروع\n",
    "# YOU HAVE TO EDIT THIS CELLL\n",
    "############################\n",
    "\n",
    "# YOUR CODE HERE.\n",
    "\n",
    "\n",
    "<CODE HERE>"
   ]
  },
  {
   "cell_type": "code",
   "execution_count": null,
   "metadata": {},
   "outputs": [],
   "source": [
    "assert (data==-1).sum().sum() == 191, 'Did you fill in missing values the right way ?'"
   ]
  },
  {
   "cell_type": "code",
   "execution_count": null,
   "metadata": {},
   "outputs": [],
   "source": [
    "assert data.isnull().sum().sum() == 0, 'There are still NaNs! Task is not completed.'"
   ]
  },
  {
   "cell_type": "markdown",
   "metadata": {},
   "source": [
    "<div style=\"direction:rtl; text-align:right\">\n",
    "بعد التعامل مع القيم المفقودة، قد يكون من المناسب أن نفكر ما إن كنا نريد تسوية البيانات أم لا. في الحقيقة أن تسوية البيانات قد لا تعني شيئاً لأن جميع المساحات بحسب الوصف مقاسة بنفس الوحدات وهي قدم مربع (square feet). لكن إن كنا في سيناريو وجدنا فيه أن المساحات تتبع وحدات مختلفة، ففي هذه الحالة علينا تسوية البيانات قبل إخضاعها لأي تحليل."
   ]
  },
  {
   "cell_type": "markdown",
   "metadata": {},
   "source": [
    "<div style=\"direction:rtl; text-align:right\">\n",
    "\n",
    "# نمذجة البيانات"
   ]
  },
  {
   "cell_type": "markdown",
   "metadata": {},
   "source": [
    "<div style=\"direction:rtl; text-align:right\">\n",
    "سنقوم الآن بإنشاء نموذج للتنبؤ بأسعار المنزل من خلال البيانات الموجودة. في هذه المرة سوف نستخدام الغابات العشوائية. تستطيع قراءة المزيد عن الغابات العشوائية من خلال هذا الدرس الموجز:"
   ]
  },
  {
   "cell_type": "markdown",
   "metadata": {},
   "source": [
    "- https://www.syr-res.com/article/11885.html"
   ]
  },
  {
   "cell_type": "code",
   "execution_count": null,
   "metadata": {
    "scrolled": true
   },
   "outputs": [],
   "source": [
    "from sklearn.ensemble import RandomForestRegressor\n",
    "from sklearn.model_selection import cross_val_score"
   ]
  },
  {
   "cell_type": "markdown",
   "metadata": {},
   "source": [
    "<div style=\"direction:rtl; text-align:right\">\n",
    "أسهل وأسرع طريقة لمعرفة أداء النموذج هي باستخدام الأمر cross_val_score حيث يقوم هذا الأمر بتقسيم البيانات إلى بيانات تدريب وبيانات اختار باستخدام التحقق المتقاطع ومن ثم إجراء النمذجة بدون أي حاجة للتدخل. بعد ذلك، سنقوم بطباعة معدل \"الدرجات\" لنعرف بشكل عام عن متوسط أداء النموذج قبل تطبيقه على بيانات جديدة. سنقوم باستخدام مربع الترابط (R^2) للتحقق من النموذج."
   ]
  },
  {
   "cell_type": "markdown",
   "metadata": {},
   "source": [
    "<div style=\"direction:rtl; text-align:right\">\n",
    "ولكن قبل تنفيذ التحقق المتقاطع، سنقوم أولا بعزل بيانات التدريب، ثم سنقوم بعزل متغير الاستجابة عن متغيرات التنبؤ وحفظ البيانات في متغيرين: X و y. "
   ]
  },
  {
   "cell_type": "code",
   "execution_count": null,
   "metadata": {},
   "outputs": [],
   "source": [
    "train_data = data.loc[train_ids] # this is X\n",
    "test_data  = data.loc[test_ids]  # this is test data"
   ]
  },
  {
   "cell_type": "code",
   "execution_count": null,
   "metadata": {},
   "outputs": [],
   "source": [
    "rf_model = RandomForestRegressor(n_estimators=50)\n",
    "scores_RF = cross_val_score(rf_model, train_data, y, cv=5, scoring='r2')"
   ]
  },
  {
   "cell_type": "code",
   "execution_count": null,
   "metadata": {},
   "outputs": [],
   "source": [
    "scores_RF.mean()"
   ]
  },
  {
   "cell_type": "markdown",
   "metadata": {},
   "source": [
    "<div style=\"direction:rtl; text-align:right\">\n",
    "حصلنا على مربع ترابط يبلغ حوالي 85% هل حصلت على هذا الرقم ؟ هذا الرقم باختصار هو إشارة للعلاقة بين توقعات النموذج وبين الأسعار الحقيقية: كلما كانت القيم قريبة من بعض كلما زادت هذه القيمة. سنتعرف على أساليب تقييم النماذج في درس قادم."
   ]
  },
  {
   "cell_type": "markdown",
   "metadata": {},
   "source": [
    "<div style=\"direction:rtl; text-align:right\">\n",
    "إذا أردت الحصول على درجة أعلى فيمكنك القراءة عن هذا النموذج، ومعرفة كيف يمكن اختبار قيم مختلفة للمدخلات المختلفة. جرب مثلاً تغيير n_estimators إلى قيمة أكبر، هل تجد نفس القيمة؟ لقراءة المزيد عن الغابات العشوائية، ننصح بقراءة توثيق سايكت ليرن لها (ولجميع الخوارزميات الأخرى)"
   ]
  },
  {
   "cell_type": "markdown",
   "metadata": {},
   "source": [
    "- https://scikit-learn.org/stable/modules/ensemble.html#forest"
   ]
  },
  {
   "cell_type": "markdown",
   "metadata": {},
   "source": [
    "<div style=\"direction:rtl; text-align:right\">\n",
    "\n",
    "# تسليم المشروع"
   ]
  },
  {
   "cell_type": "markdown",
   "metadata": {},
   "source": [
    "<div style=\"direction:rtl; text-align:right\">\n",
    "قبل تسليم المشروع في موقع كاقل، سوف نستخدم النموذج أعلاه لتوقع أسعار البيوت ومن ثم حفظ الملف الناتج لتسليمه إلى كاقل."
   ]
  },
  {
   "cell_type": "code",
   "execution_count": null,
   "metadata": {},
   "outputs": [],
   "source": [
    "rf_model.fit(train_data, y) # training model on full data"
   ]
  },
  {
   "cell_type": "code",
   "execution_count": null,
   "metadata": {},
   "outputs": [],
   "source": [
    "test_data['SalePrice'] = rf_model.predict(test_data)"
   ]
  },
  {
   "cell_type": "code",
   "execution_count": null,
   "metadata": {},
   "outputs": [],
   "source": [
    "test_data['SalePrice'].to_csv('./house_predictions_submission.csv', header=True)"
   ]
  },
  {
   "cell_type": "markdown",
   "metadata": {},
   "source": [
    "<div style=\"direction:rtl; text-align:right\">\n",
    "والآن اذهب إلى موقع كاقل وقم برفع هذا الملف لترى قوة نموذجك."
   ]
  },
  {
   "cell_type": "markdown",
   "metadata": {},
   "source": [
    "- https://www.kaggle.com/c/house-prices-advanced-regression-techniques/submit"
   ]
  }
 ],
 "metadata": {
  "kernelspec": {
   "display_name": "Python 3",
   "language": "python",
   "name": "python3"
  },
  "language_info": {
   "codemirror_mode": {
    "name": "ipython",
    "version": 3
   },
   "file_extension": ".py",
   "mimetype": "text/x-python",
   "name": "python",
   "nbconvert_exporter": "python",
   "pygments_lexer": "ipython3",
   "version": "3.7.3"
  }
 },
 "nbformat": 4,
 "nbformat_minor": 2
}
